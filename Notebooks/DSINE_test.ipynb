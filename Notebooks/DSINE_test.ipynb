{
 "cells": [
  {
   "cell_type": "markdown",
   "metadata": {},
   "source": [
    "Create a conda environment and select it as the kernel for this notebook\n",
    "\n",
    "conda create --name DSINE python=3.10\n",
    "\n",
    "conda activate DSINE"
   ]
  },
  {
   "cell_type": "code",
   "execution_count": 3,
   "metadata": {},
   "outputs": [
    {
     "name": "stdout",
     "output_type": "stream",
     "text": [
      "Channels:\n",
      " - pytorch\n",
      " - nvidia\n",
      " - defaults\n",
      " - conda-forge\n",
      "Platform: linux-64\n",
      "Collecting package metadata (repodata.json): done\n",
      "Solving environment: done\n",
      "\n",
      "## Package Plan ##\n",
      "\n",
      "  environment location: /home/s5708799/.pyenv/versions/anaconda3-2024.10-1/envs/DSINE3\n",
      "\n",
      "  added / updated specs:\n",
      "    - pytorch\n",
      "    - pytorch-cuda=12.1\n",
      "    - torchaudio\n",
      "    - torchvision\n",
      "\n",
      "\n",
      "The following packages will be downloaded:\n",
      "\n",
      "    package                    |            build\n",
      "    ---------------------------|-----------------\n",
      "    brotli-python-1.0.9        |  py310h6a678d5_9         356 KB\n",
      "    certifi-2024.12.14         |  py310h06a4308_0         160 KB\n",
      "    cuda-opencl-12.8.55        |                0          25 KB  nvidia\n",
      "    cuda-version-12.8          |                3          17 KB  nvidia\n",
      "    jinja2-3.1.5               |  py310h06a4308_0         277 KB\n",
      "    lcms2-2.16                 |       hb9589c4_0         269 KB\n",
      "    lerc-4.0.0                 |       h6a678d5_0         261 KB\n",
      "    libcufile-1.13.0.11        |                0         936 KB  nvidia\n",
      "    libcurand-10.3.9.55        |                0        43.6 MB  nvidia\n",
      "    libdeflate-1.22            |       h5eee18b_0          68 KB\n",
      "    libtiff-4.5.1              |       hffd6297_1         534 KB\n",
      "    markupsafe-2.1.3           |  py310h5eee18b_1          23 KB\n",
      "    mkl-service-2.4.0          |  py310h5eee18b_2          68 KB\n",
      "    networkx-3.4.2             |  py310h06a4308_0         2.5 MB\n",
      "    ocl-icd-2.3.2              |       h5eee18b_1         136 KB\n",
      "    pillow-11.0.0              |  py310hcea889d_1         815 KB\n",
      "    sympy-1.13.3               |  py310h06a4308_0        11.3 MB\n",
      "    urllib3-2.3.0              |  py310h06a4308_0         190 KB\n",
      "    ------------------------------------------------------------\n",
      "                                           Total:        61.4 MB\n",
      "\n",
      "The following NEW packages will be INSTALLED:\n",
      "\n",
      "  blas               pkgs/main/linux-64::blas-1.0-mkl \n",
      "  brotli-python      pkgs/main/linux-64::brotli-python-1.0.9-py310h6a678d5_9 \n",
      "  certifi            pkgs/main/linux-64::certifi-2024.12.14-py310h06a4308_0 \n",
      "  charset-normalizer pkgs/main/noarch::charset-normalizer-3.3.2-pyhd3eb1b0_0 \n",
      "  cuda-cudart        nvidia/linux-64::cuda-cudart-12.1.105-0 \n",
      "  cuda-cupti         nvidia/linux-64::cuda-cupti-12.1.105-0 \n",
      "  cuda-libraries     nvidia/linux-64::cuda-libraries-12.1.0-0 \n",
      "  cuda-nvrtc         nvidia/linux-64::cuda-nvrtc-12.1.105-0 \n",
      "  cuda-nvtx          nvidia/linux-64::cuda-nvtx-12.1.105-0 \n",
      "  cuda-opencl        nvidia/linux-64::cuda-opencl-12.8.55-0 \n",
      "  cuda-runtime       nvidia/linux-64::cuda-runtime-12.1.0-0 \n",
      "  cuda-version       nvidia/noarch::cuda-version-12.8-3 \n",
      "  ffmpeg             pytorch/linux-64::ffmpeg-4.3-hf484d3e_0 \n",
      "  filelock           pkgs/main/linux-64::filelock-3.13.1-py310h06a4308_0 \n",
      "  freetype           pkgs/main/linux-64::freetype-2.12.1-h4a9f257_0 \n",
      "  giflib             pkgs/main/linux-64::giflib-5.2.2-h5eee18b_0 \n",
      "  gmp                pkgs/main/linux-64::gmp-6.2.1-h295c915_3 \n",
      "  gmpy2              pkgs/main/linux-64::gmpy2-2.1.2-py310heeb90bb_0 \n",
      "  gnutls             pkgs/main/linux-64::gnutls-3.6.15-he1e5248_0 \n",
      "  idna               pkgs/main/linux-64::idna-3.7-py310h06a4308_0 \n",
      "  intel-openmp       pkgs/main/linux-64::intel-openmp-2023.1.0-hdb19cb5_46306 \n",
      "  jinja2             pkgs/main/linux-64::jinja2-3.1.5-py310h06a4308_0 \n",
      "  jpeg               pkgs/main/linux-64::jpeg-9e-h5eee18b_3 \n",
      "  lame               pkgs/main/linux-64::lame-3.100-h7b6447c_0 \n",
      "  lcms2              pkgs/main/linux-64::lcms2-2.16-hb9589c4_0 \n",
      "  lerc               pkgs/main/linux-64::lerc-4.0.0-h6a678d5_0 \n",
      "  libcublas          nvidia/linux-64::libcublas-12.1.0.26-0 \n",
      "  libcufft           nvidia/linux-64::libcufft-11.0.2.4-0 \n",
      "  libcufile          nvidia/linux-64::libcufile-1.13.0.11-0 \n",
      "  libcurand          nvidia/linux-64::libcurand-10.3.9.55-0 \n",
      "  libcusolver        nvidia/linux-64::libcusolver-11.4.4.55-0 \n",
      "  libcusparse        nvidia/linux-64::libcusparse-12.0.2.55-0 \n",
      "  libdeflate         pkgs/main/linux-64::libdeflate-1.22-h5eee18b_0 \n",
      "  libiconv           pkgs/main/linux-64::libiconv-1.16-h5eee18b_3 \n",
      "  libidn2            pkgs/main/linux-64::libidn2-2.3.4-h5eee18b_0 \n",
      "  libjpeg-turbo      pytorch/linux-64::libjpeg-turbo-2.0.0-h9bf148f_0 \n",
      "  libnpp             nvidia/linux-64::libnpp-12.0.2.50-0 \n",
      "  libnvjitlink       nvidia/linux-64::libnvjitlink-12.1.105-0 \n",
      "  libnvjpeg          nvidia/linux-64::libnvjpeg-12.1.1.14-0 \n",
      "  libpng             pkgs/main/linux-64::libpng-1.6.39-h5eee18b_0 \n",
      "  libtasn1           pkgs/main/linux-64::libtasn1-4.19.0-h5eee18b_0 \n",
      "  libtiff            pkgs/main/linux-64::libtiff-4.5.1-hffd6297_1 \n",
      "  libunistring       pkgs/main/linux-64::libunistring-0.9.10-h27cfd23_0 \n",
      "  libwebp            pkgs/main/linux-64::libwebp-1.3.2-h11a3e52_0 \n",
      "  libwebp-base       pkgs/main/linux-64::libwebp-base-1.3.2-h5eee18b_1 \n",
      "  llvm-openmp        pkgs/main/linux-64::llvm-openmp-14.0.6-h9e868ea_0 \n",
      "  lz4-c              pkgs/main/linux-64::lz4-c-1.9.4-h6a678d5_1 \n",
      "  markupsafe         pkgs/main/linux-64::markupsafe-2.1.3-py310h5eee18b_1 \n",
      "  mkl                pkgs/main/linux-64::mkl-2023.1.0-h213fc3f_46344 \n",
      "  mkl-service        pkgs/main/linux-64::mkl-service-2.4.0-py310h5eee18b_2 \n",
      "  mkl_fft            pkgs/main/linux-64::mkl_fft-1.3.11-py310h5eee18b_0 \n",
      "  mkl_random         pkgs/main/linux-64::mkl_random-1.2.8-py310h1128e8f_0 \n",
      "  mpc                pkgs/main/linux-64::mpc-1.1.0-h10f8cd9_1 \n",
      "  mpfr               pkgs/main/linux-64::mpfr-4.0.2-hb69a4c5_1 \n",
      "  mpmath             pkgs/main/linux-64::mpmath-1.3.0-py310h06a4308_0 \n",
      "  nettle             pkgs/main/linux-64::nettle-3.7.3-hbbd107a_1 \n",
      "  networkx           pkgs/main/linux-64::networkx-3.4.2-py310h06a4308_0 \n",
      "  numpy              pkgs/main/linux-64::numpy-2.0.1-py310h5f9d8c6_1 \n",
      "  numpy-base         pkgs/main/linux-64::numpy-base-2.0.1-py310hb5e798b_1 \n",
      "  ocl-icd            pkgs/main/linux-64::ocl-icd-2.3.2-h5eee18b_1 \n",
      "  openh264           pkgs/main/linux-64::openh264-2.1.1-h4ff587b_0 \n",
      "  openjpeg           pkgs/main/linux-64::openjpeg-2.5.2-he7f1fd0_0 \n",
      "  pillow             pkgs/main/linux-64::pillow-11.0.0-py310hcea889d_1 \n",
      "  pysocks            pkgs/main/linux-64::pysocks-1.7.1-py310h06a4308_0 \n",
      "  pytorch            pytorch/linux-64::pytorch-2.5.1-py3.10_cuda12.1_cudnn9.1.0_0 \n",
      "  pytorch-cuda       pytorch/linux-64::pytorch-cuda-12.1-ha16c6d3_6 \n",
      "  pytorch-mutex      pytorch/noarch::pytorch-mutex-1.0-cuda \n",
      "  pyyaml             pkgs/main/linux-64::pyyaml-6.0.2-py310h5eee18b_0 \n",
      "  requests           pkgs/main/linux-64::requests-2.32.3-py310h06a4308_1 \n",
      "  sympy              pkgs/main/linux-64::sympy-1.13.3-py310h06a4308_0 \n",
      "  tbb                pkgs/main/linux-64::tbb-2021.8.0-hdb19cb5_0 \n",
      "  torchaudio         pytorch/linux-64::torchaudio-2.5.1-py310_cu121 \n",
      "  torchtriton        pytorch/linux-64::torchtriton-3.1.0-py310 \n",
      "  torchvision        pytorch/linux-64::torchvision-0.20.1-py310_cu121 \n",
      "  urllib3            pkgs/main/linux-64::urllib3-2.3.0-py310h06a4308_0 \n",
      "  yaml               pkgs/main/linux-64::yaml-0.2.5-h7b6447c_0 \n",
      "  zstd               pkgs/main/linux-64::zstd-1.5.6-hc292b87_0 \n",
      "\n",
      "\n",
      "Proceed ([y]/n)? ^C\n",
      "\n",
      "CondaSystemExit: \n",
      "Operation aborted.  Exiting.\n",
      "\n",
      "Collecting geffnet\n",
      "  Using cached geffnet-1.0.2-py3-none-any.whl.metadata (22 kB)\n",
      "Collecting torch>=1.4 (from geffnet)\n",
      "  Using cached torch-2.5.1-cp310-cp310-manylinux1_x86_64.whl.metadata (28 kB)\n",
      "Collecting torchvision (from geffnet)\n",
      "  Using cached torchvision-0.20.1-cp310-cp310-manylinux1_x86_64.whl.metadata (6.1 kB)\n",
      "Collecting filelock (from torch>=1.4->geffnet)\n",
      "  Using cached filelock-3.17.0-py3-none-any.whl.metadata (2.9 kB)\n",
      "Requirement already satisfied: typing-extensions>=4.8.0 in /home/s5708799/.pyenv/versions/anaconda3-2024.10-1/envs/DSINE3/lib/python3.10/site-packages (from torch>=1.4->geffnet) (4.12.2)\n",
      "Collecting networkx (from torch>=1.4->geffnet)\n",
      "  Using cached networkx-3.4.2-py3-none-any.whl.metadata (6.3 kB)\n",
      "Collecting jinja2 (from torch>=1.4->geffnet)\n",
      "  Using cached jinja2-3.1.5-py3-none-any.whl.metadata (2.6 kB)\n",
      "Collecting fsspec (from torch>=1.4->geffnet)\n",
      "  Using cached fsspec-2024.12.0-py3-none-any.whl.metadata (11 kB)\n",
      "Collecting nvidia-cuda-nvrtc-cu12==12.4.127 (from torch>=1.4->geffnet)\n",
      "  Using cached nvidia_cuda_nvrtc_cu12-12.4.127-py3-none-manylinux2014_x86_64.whl.metadata (1.5 kB)\n",
      "Collecting nvidia-cuda-runtime-cu12==12.4.127 (from torch>=1.4->geffnet)\n",
      "  Using cached nvidia_cuda_runtime_cu12-12.4.127-py3-none-manylinux2014_x86_64.whl.metadata (1.5 kB)\n",
      "Collecting nvidia-cuda-cupti-cu12==12.4.127 (from torch>=1.4->geffnet)\n",
      "  Using cached nvidia_cuda_cupti_cu12-12.4.127-py3-none-manylinux2014_x86_64.whl.metadata (1.6 kB)\n",
      "Collecting nvidia-cudnn-cu12==9.1.0.70 (from torch>=1.4->geffnet)\n",
      "  Using cached nvidia_cudnn_cu12-9.1.0.70-py3-none-manylinux2014_x86_64.whl.metadata (1.6 kB)\n",
      "Collecting nvidia-cublas-cu12==12.4.5.8 (from torch>=1.4->geffnet)\n",
      "  Using cached nvidia_cublas_cu12-12.4.5.8-py3-none-manylinux2014_x86_64.whl.metadata (1.5 kB)\n",
      "Collecting nvidia-cufft-cu12==11.2.1.3 (from torch>=1.4->geffnet)\n",
      "  Using cached nvidia_cufft_cu12-11.2.1.3-py3-none-manylinux2014_x86_64.whl.metadata (1.5 kB)\n",
      "Collecting nvidia-curand-cu12==10.3.5.147 (from torch>=1.4->geffnet)\n",
      "  Using cached nvidia_curand_cu12-10.3.5.147-py3-none-manylinux2014_x86_64.whl.metadata (1.5 kB)\n",
      "Collecting nvidia-cusolver-cu12==11.6.1.9 (from torch>=1.4->geffnet)\n",
      "  Using cached nvidia_cusolver_cu12-11.6.1.9-py3-none-manylinux2014_x86_64.whl.metadata (1.6 kB)\n",
      "Collecting nvidia-cusparse-cu12==12.3.1.170 (from torch>=1.4->geffnet)\n",
      "  Using cached nvidia_cusparse_cu12-12.3.1.170-py3-none-manylinux2014_x86_64.whl.metadata (1.6 kB)\n",
      "Collecting nvidia-nccl-cu12==2.21.5 (from torch>=1.4->geffnet)\n",
      "  Using cached nvidia_nccl_cu12-2.21.5-py3-none-manylinux2014_x86_64.whl.metadata (1.8 kB)\n",
      "Collecting nvidia-nvtx-cu12==12.4.127 (from torch>=1.4->geffnet)\n",
      "  Using cached nvidia_nvtx_cu12-12.4.127-py3-none-manylinux2014_x86_64.whl.metadata (1.7 kB)\n",
      "Collecting nvidia-nvjitlink-cu12==12.4.127 (from torch>=1.4->geffnet)\n",
      "  Using cached nvidia_nvjitlink_cu12-12.4.127-py3-none-manylinux2014_x86_64.whl.metadata (1.5 kB)\n",
      "Collecting triton==3.1.0 (from torch>=1.4->geffnet)\n",
      "  Using cached triton-3.1.0-cp310-cp310-manylinux_2_17_x86_64.manylinux2014_x86_64.whl.metadata (1.3 kB)\n",
      "Collecting sympy==1.13.1 (from torch>=1.4->geffnet)\n",
      "  Using cached sympy-1.13.1-py3-none-any.whl.metadata (12 kB)\n",
      "Collecting mpmath<1.4,>=1.1.0 (from sympy==1.13.1->torch>=1.4->geffnet)\n",
      "  Using cached mpmath-1.3.0-py3-none-any.whl.metadata (8.6 kB)\n",
      "Collecting numpy (from torchvision->geffnet)\n",
      "  Downloading numpy-2.2.2-cp310-cp310-manylinux_2_17_x86_64.manylinux2014_x86_64.whl.metadata (62 kB)\n",
      "Collecting pillow!=8.3.*,>=5.3.0 (from torchvision->geffnet)\n",
      "  Downloading pillow-11.1.0-cp310-cp310-manylinux_2_28_x86_64.whl.metadata (9.1 kB)\n",
      "Collecting MarkupSafe>=2.0 (from jinja2->torch>=1.4->geffnet)\n",
      "  Using cached MarkupSafe-3.0.2-cp310-cp310-manylinux_2_17_x86_64.manylinux2014_x86_64.whl.metadata (4.0 kB)\n",
      "Using cached geffnet-1.0.2-py3-none-any.whl (40 kB)\n",
      "Using cached torch-2.5.1-cp310-cp310-manylinux1_x86_64.whl (906.4 MB)\n",
      "Using cached nvidia_cublas_cu12-12.4.5.8-py3-none-manylinux2014_x86_64.whl (363.4 MB)\n",
      "Using cached nvidia_cuda_cupti_cu12-12.4.127-py3-none-manylinux2014_x86_64.whl (13.8 MB)\n",
      "Using cached nvidia_cuda_nvrtc_cu12-12.4.127-py3-none-manylinux2014_x86_64.whl (24.6 MB)\n",
      "Using cached nvidia_cuda_runtime_cu12-12.4.127-py3-none-manylinux2014_x86_64.whl (883 kB)\n",
      "Using cached nvidia_cudnn_cu12-9.1.0.70-py3-none-manylinux2014_x86_64.whl (664.8 MB)\n",
      "Using cached nvidia_cufft_cu12-11.2.1.3-py3-none-manylinux2014_x86_64.whl (211.5 MB)\n",
      "Using cached nvidia_curand_cu12-10.3.5.147-py3-none-manylinux2014_x86_64.whl (56.3 MB)\n",
      "Using cached nvidia_cusolver_cu12-11.6.1.9-py3-none-manylinux2014_x86_64.whl (127.9 MB)\n",
      "Using cached nvidia_cusparse_cu12-12.3.1.170-py3-none-manylinux2014_x86_64.whl (207.5 MB)\n",
      "Using cached nvidia_nccl_cu12-2.21.5-py3-none-manylinux2014_x86_64.whl (188.7 MB)\n",
      "Using cached nvidia_nvjitlink_cu12-12.4.127-py3-none-manylinux2014_x86_64.whl (21.1 MB)\n",
      "Using cached nvidia_nvtx_cu12-12.4.127-py3-none-manylinux2014_x86_64.whl (99 kB)\n",
      "Using cached sympy-1.13.1-py3-none-any.whl (6.2 MB)\n",
      "Using cached triton-3.1.0-cp310-cp310-manylinux_2_17_x86_64.manylinux2014_x86_64.whl (209.5 MB)\n",
      "Using cached torchvision-0.20.1-cp310-cp310-manylinux1_x86_64.whl (7.2 MB)\n",
      "Downloading pillow-11.1.0-cp310-cp310-manylinux_2_28_x86_64.whl (4.5 MB)\n",
      "\u001b[2K   \u001b[38;2;114;156;31m━━━━━━━━━━━━━━━━━━━━━━━━━━━━━━━━━━━━━━━━\u001b[0m \u001b[32m4.5/4.5 MB\u001b[0m \u001b[31m44.2 MB/s\u001b[0m eta \u001b[36m0:00:00\u001b[0m\n",
      "\u001b[?25hDownloading filelock-3.17.0-py3-none-any.whl (16 kB)\n",
      "Downloading fsspec-2024.12.0-py3-none-any.whl (183 kB)\n",
      "Downloading jinja2-3.1.5-py3-none-any.whl (134 kB)\n",
      "Using cached networkx-3.4.2-py3-none-any.whl (1.7 MB)\n",
      "Downloading numpy-2.2.2-cp310-cp310-manylinux_2_17_x86_64.manylinux2014_x86_64.whl (16.4 MB)\n",
      "\u001b[2K   \u001b[38;2;114;156;31m━━━━━━━━━━━━━━━━━━━━━━━━━━━━━━━━━━━━━━━━\u001b[0m \u001b[32m16.4/16.4 MB\u001b[0m \u001b[31m53.4 MB/s\u001b[0m eta \u001b[36m0:00:00\u001b[0m0m eta \u001b[36m0:00:01\u001b[0m\n",
      "\u001b[?25hUsing cached MarkupSafe-3.0.2-cp310-cp310-manylinux_2_17_x86_64.manylinux2014_x86_64.whl (20 kB)\n",
      "Using cached mpmath-1.3.0-py3-none-any.whl (536 kB)\n",
      "Installing collected packages: mpmath, sympy, pillow, nvidia-nvtx-cu12, nvidia-nvjitlink-cu12, nvidia-nccl-cu12, nvidia-curand-cu12, nvidia-cufft-cu12, nvidia-cuda-runtime-cu12, nvidia-cuda-nvrtc-cu12, nvidia-cuda-cupti-cu12, nvidia-cublas-cu12, numpy, networkx, MarkupSafe, fsspec, filelock, triton, nvidia-cusparse-cu12, nvidia-cudnn-cu12, jinja2, nvidia-cusolver-cu12, torch, torchvision, geffnet\n",
      "Successfully installed MarkupSafe-3.0.2 filelock-3.17.0 fsspec-2024.12.0 geffnet-1.0.2 jinja2-3.1.5 mpmath-1.3.0 networkx-3.4.2 numpy-2.2.2 nvidia-cublas-cu12-12.4.5.8 nvidia-cuda-cupti-cu12-12.4.127 nvidia-cuda-nvrtc-cu12-12.4.127 nvidia-cuda-runtime-cu12-12.4.127 nvidia-cudnn-cu12-9.1.0.70 nvidia-cufft-cu12-11.2.1.3 nvidia-curand-cu12-10.3.5.147 nvidia-cusolver-cu12-11.6.1.9 nvidia-cusparse-cu12-12.3.1.170 nvidia-nccl-cu12-2.21.5 nvidia-nvjitlink-cu12-12.4.127 nvidia-nvtx-cu12-12.4.127 pillow-11.1.0 sympy-1.13.1 torch-2.5.1 torchvision-0.20.1 triton-3.1.0\n"
     ]
    }
   ],
   "source": [
    "!conda install pytorch torchvision torchaudio pytorch-cuda=12.1 -c pytorch -c nvidia\n",
    "!python -m pip install geffnet"
   ]
  },
  {
   "cell_type": "code",
   "execution_count": 6,
   "metadata": {},
   "outputs": [
    {
     "name": "stdout",
     "output_type": "stream",
     "text": [
      "Channels:\n",
      " - defaults\n",
      " - conda-forge\n",
      "Platform: linux-64\n",
      "Collecting package metadata (repodata.json): done\n",
      "Solving environment: done\n",
      "\n",
      "## Package Plan ##\n",
      "\n",
      "  environment location: /home/s5708799/.pyenv/versions/anaconda3-2024.10-1/envs/DSINE3\n",
      "\n",
      "  added / updated specs:\n",
      "    - gitpython\n",
      "\n",
      "\n",
      "The following packages will be downloaded:\n",
      "\n",
      "    package                    |            build\n",
      "    ---------------------------|-----------------\n",
      "    gitpython-3.1.43           |  py310h06a4308_0         285 KB\n",
      "    ------------------------------------------------------------\n",
      "                                           Total:         285 KB\n",
      "\n",
      "The following NEW packages will be INSTALLED:\n",
      "\n",
      "  gitdb              pkgs/main/noarch::gitdb-4.0.7-pyhd3eb1b0_0 \n",
      "  gitpython          pkgs/main/linux-64::gitpython-3.1.43-py310h06a4308_0 \n",
      "  smmap              pkgs/main/noarch::smmap-4.0.0-pyhd3eb1b0_0 \n",
      "\n",
      "\n",
      "\n",
      "Downloading and Extracting Packages:\n",
      "                                                                                \n",
      "Preparing transaction: done\n",
      "Verifying transaction: done\n",
      "Executing transaction: done\n"
     ]
    }
   ],
   "source": [
    "!conda install gitpython -y"
   ]
  },
  {
   "cell_type": "code",
   "execution_count": 7,
   "metadata": {},
   "outputs": [
    {
     "data": {
      "text/plain": [
       "<git.repo.base.Repo '/transfer/s5708799/ASE_Project/Image Data/DSINE/.git'>"
      ]
     },
     "execution_count": 7,
     "metadata": {},
     "output_type": "execute_result"
    }
   ],
   "source": [
    "import git\n",
    "git.Repo.clone_from('https://github.com/baegwangbin/DSINE', 'DSINE')"
   ]
  },
  {
   "cell_type": "code",
   "execution_count": 10,
   "metadata": {},
   "outputs": [
    {
     "name": "stdout",
     "output_type": "stream",
     "text": [
      "/transfer/s5708799/ASE_Project/Image Data\n"
     ]
    }
   ],
   "source": [
    "!pwd"
   ]
  },
  {
   "cell_type": "code",
   "execution_count": 11,
   "metadata": {},
   "outputs": [
    {
     "name": "stdout",
     "output_type": "stream",
     "text": [
      "Copied Input_1.png to DSINE/projects/dsine/samples/img/\n"
     ]
    }
   ],
   "source": [
    "import os\n",
    "import shutil\n",
    "\n",
    "\n",
    "source_directory = \"Test Images/Input/\"\n",
    "destination_directory = \"DSINE/projects/dsine/samples/img/\"\n",
    "\n",
    "for filename in os.listdir(source_directory):\n",
    "      source_file = os.path.join(source_directory, filename)\n",
    "      if os.path.isfile(source_file):\n",
    "        shutil.copy2(source_file, destination_directory)\n",
    "        print(f\"Copied {filename} to {destination_directory}\")\n",
    "\n"
   ]
  },
  {
   "cell_type": "code",
   "execution_count": 17,
   "metadata": {},
   "outputs": [
    {
     "name": "stdout",
     "output_type": "stream",
     "text": [
      "/transfer/s5708799/ASE_Project/Image Data/DSINE/projects/dsine\n"
     ]
    }
   ],
   "source": [
    "%cd DSINE/projects/dsine"
   ]
  },
  {
   "cell_type": "markdown",
   "metadata": {},
   "source": [
    "Install the checkpoints from this link: https://drive.google.com/drive/folders/1Gi9oYit86F9_fZtcCvKyxfy_r_YI0oxV and store it under projects/dsine/checkpoints/\n",
    "\n",
    "Images were placed the input image under projects/dsine/samples/img\n",
    "\n",
    "config.py must be edited to output the images to correct path.\n",
    "\n",
    "add before line 47: EXPERIMENT_DIR = ('')\n",
    "\n",
    "and create directory projects/dsine/samples/output"
   ]
  },
  {
   "cell_type": "code",
   "execution_count": 24,
   "metadata": {},
   "outputs": [
    {
     "name": "stdout",
     "output_type": "stream",
     "text": [
      "img_paths\n",
      "./checkpoints/exp001_cvpr2024/dsine.pt\n",
      "/transfer/s5708799/ASE_Project/Image Data/DSINE/projects/dsine/../../utils/utils.py:14: FutureWarning: You are using `torch.load` with `weights_only=False` (the current default value), which uses the default pickle module implicitly. It is possible to construct malicious pickle data which will execute arbitrary code during unpickling (See https://github.com/pytorch/pytorch/blob/main/SECURITY.md#untrusted-models for more details). In a future release, the default value for `weights_only` will be flipped to `True`. This limits the functions that could be executed during unpickling. Arbitrary objects will no longer be allowed to be loaded via this mode unless they are explicitly allowlisted by the user via `torch.serialization.add_safe_globals`. We recommend you start setting `weights_only=True` for any use case where you don't have full control of the loaded file. Please open an issue on GitHub for any issues related to this experimental feature.\n",
      "  ckpt = torch.load(fpath, map_location='cpu')['model']\n",
      "img_paths\n",
      "./samples/img/Input_1.png\n"
     ]
    }
   ],
   "source": [
    "!python test_minimal.py ./experiments/exp001_cvpr2024/dsine.txt"
   ]
  },
  {
   "cell_type": "markdown",
   "metadata": {},
   "source": [
    "Make sure you get back to the initial directory to copy output "
   ]
  },
  {
   "cell_type": "code",
   "execution_count": 26,
   "metadata": {},
   "outputs": [
    {
     "name": "stdout",
     "output_type": "stream",
     "text": [
      "/transfer/s5708799/ASE_Project/Image Data\n"
     ]
    }
   ],
   "source": [
    "os.chdir(\"..\")\n",
    "os.chdir(\"..\")\n",
    "os.chdir(\"..\")\n",
    "!pwd"
   ]
  },
  {
   "cell_type": "code",
   "execution_count": 28,
   "metadata": {},
   "outputs": [
    {
     "name": "stdout",
     "output_type": "stream",
     "text": [
      "Copied Input_1.png to Test Images/Output/\n"
     ]
    }
   ],
   "source": [
    "import os\n",
    "import shutil\n",
    "\n",
    "\n",
    "source_directory = \"DSINE/projects/dsine/samples/output\"\n",
    "destination_directory = \"Test Images/Output/\"\n",
    "\n",
    "for filename in os.listdir(source_directory):\n",
    "      source_file = os.path.join(source_directory, filename)\n",
    "      if os.path.isfile(source_file):\n",
    "        shutil.copy2(source_file, destination_directory)\n",
    "        print(f\"Copied {filename} to {destination_directory}\")\n"
   ]
  },
  {
   "cell_type": "code",
   "execution_count": 34,
   "metadata": {},
   "outputs": [],
   "source": [
    "from PIL import Image\n",
    "import numpy as np\n",
    "\n",
    "\n",
    "image = Image.open(\"Test Images/Output/Input_1.png\")\n",
    "image = image.convert('RGB')\n",
    "pixels = image.load()\n",
    "width, height = image.size\n",
    "\n",
    "normal_array[:, :, 0] = 1.0 - normal_array[:, :, 0]  # Invert R\n",
    "normal_array[:, :, 1] = 1.0 - normal_array[:, :, 1]  # Invert G\n",
    "\n",
    "# Save the fully flipped normal map\n",
    "flipped_normal_map = (normal_array * 255).astype(np.uint8)\n",
    "flipped_image = Image.fromarray(flipped_normal_map)\n",
    "flipped_image.save(\"flipped_normal_map_full.png\")\n",
    "\n",
    "for i in range(width):\n",
    "    for j in range(height):\n",
    "        r, g, b = pixels[i, j]\n",
    "        r = 255 - r\n",
    "        g = 255 - g\n",
    "        r = int(r)  # Ensure integer values for pixel colors\n",
    "        g = int(g)\n",
    "        b = int(b) \n",
    "        pixels[i, j] = (r, g, b)\n",
    "      \n",
    "image.save(\"Test Images/Output/Inverse_normals.png\")"
   ]
  }
 ],
 "metadata": {
  "kernelspec": {
   "display_name": "DSINE",
   "language": "python",
   "name": "python3"
  },
  "language_info": {
   "codemirror_mode": {
    "name": "ipython",
    "version": 3
   },
   "file_extension": ".py",
   "mimetype": "text/x-python",
   "name": "python",
   "nbconvert_exporter": "python",
   "pygments_lexer": "ipython3",
   "version": "3.10.16"
  }
 },
 "nbformat": 4,
 "nbformat_minor": 2
}
