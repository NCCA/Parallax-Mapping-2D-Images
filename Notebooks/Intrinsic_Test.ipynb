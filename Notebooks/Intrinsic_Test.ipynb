{
 "cells": [
  {
   "cell_type": "markdown",
   "metadata": {},
   "source": [
    "Create a Venv in the terminal to be used for this notebook.\n",
    "\n",
    "run:\n",
    " \n",
    "python -m venv venv_name\n",
    "\n",
    "source venv_name/bin/activate\n",
    "\n",
    "Then assign the venv to this notebook"
   ]
  },
  {
   "cell_type": "code",
   "execution_count": 1,
   "metadata": {},
   "outputs": [
    {
     "name": "stdout",
     "output_type": "stream",
     "text": [
      "Collecting gitpython\n",
      "  Using cached GitPython-3.1.44-py3-none-any.whl.metadata (13 kB)\n",
      "Collecting gitdb<5,>=4.0.1 (from gitpython)\n",
      "  Using cached gitdb-4.0.12-py3-none-any.whl.metadata (1.2 kB)\n",
      "Collecting smmap<6,>=3.0.1 (from gitdb<5,>=4.0.1->gitpython)\n",
      "  Using cached smmap-5.0.2-py3-none-any.whl.metadata (4.3 kB)\n",
      "Using cached GitPython-3.1.44-py3-none-any.whl (207 kB)\n",
      "Using cached gitdb-4.0.12-py3-none-any.whl (62 kB)\n",
      "Using cached smmap-5.0.2-py3-none-any.whl (24 kB)\n",
      "Installing collected packages: smmap, gitdb, gitpython\n",
      "Successfully installed gitdb-4.0.12 gitpython-3.1.44 smmap-5.0.2\n",
      "\n",
      "\u001b[1m[\u001b[0m\u001b[34;49mnotice\u001b[0m\u001b[1;39;49m]\u001b[0m\u001b[39;49m A new release of pip is available: \u001b[0m\u001b[31;49m24.2\u001b[0m\u001b[39;49m -> \u001b[0m\u001b[32;49m25.0\u001b[0m\n",
      "\u001b[1m[\u001b[0m\u001b[34;49mnotice\u001b[0m\u001b[1;39;49m]\u001b[0m\u001b[39;49m To update, run: \u001b[0m\u001b[32;49mpip install --upgrade pip\u001b[0m\n",
      "Note: you may need to restart the kernel to use updated packages.\n"
     ]
    }
   ],
   "source": [
    "%pip install gitpython"
   ]
  },
  {
   "cell_type": "code",
   "execution_count": 2,
   "metadata": {},
   "outputs": [
    {
     "data": {
      "text/plain": [
       "<git.repo.base.Repo '/transfer/s5708799/ASE_Project/Image Data/Intrinsic/.git'>"
      ]
     },
     "execution_count": 2,
     "metadata": {},
     "output_type": "execute_result"
    }
   ],
   "source": [
    "import git\n",
    "git.Repo.clone_from('https://github.com/compphoto/Intrinsic', 'Intrinsic')"
   ]
  },
  {
   "cell_type": "code",
   "execution_count": 3,
   "metadata": {},
   "outputs": [
    {
     "name": "stdout",
     "output_type": "stream",
     "text": [
      "/transfer/s5708799/ASE_Project/Image Data/Intrinsic\n"
     ]
    },
    {
     "name": "stderr",
     "output_type": "stream",
     "text": [
      "/transfer/s5708799/ASE_Project/Image Data/intrinsics/lib/python3.12/site-packages/IPython/core/magics/osm.py:417: UserWarning: This is now an optional IPython functionality, setting dhist requires you to install the `pickleshare` library.\n",
      "  self.shell.db['dhist'] = compress_dhist(dhist)[-100:]\n"
     ]
    },
    {
     "name": "stdout",
     "output_type": "stream",
     "text": [
      "Processing /transfer/s5708799/ASE_Project/Image Data/Intrinsic\n",
      "  Installing build dependencies ... \u001b[?25ldone\n",
      "\u001b[?25h  Getting requirements to build wheel ... \u001b[?25ldone\n",
      "\u001b[?25h  Preparing metadata (pyproject.toml) ... \u001b[?25ldone\n",
      "\u001b[?25hCollecting altered_midas@ git+https://github.com/CCareaga/MiDaS@master (from intrinsic==0.0.1)\n",
      "  Cloning https://github.com/CCareaga/MiDaS (to revision master) to /tmp/pip-install-6c0x2n17/altered-midas_8ad5a864d0bb48edb67cc9365850cf81\n",
      "  Running command git clone --filter=blob:none --quiet https://github.com/CCareaga/MiDaS /tmp/pip-install-6c0x2n17/altered-midas_8ad5a864d0bb48edb67cc9365850cf81\n",
      "  Resolved https://github.com/CCareaga/MiDaS to commit 86355e920b34730b7e2ede20c5efee14e611d03b\n",
      "  Installing build dependencies ... \u001b[?25ldone\n",
      "\u001b[?25h  Getting requirements to build wheel ... \u001b[?25ldone\n",
      "\u001b[?25h  Preparing metadata (pyproject.toml) ... \u001b[?25ldone\n",
      "\u001b[?25hCollecting chrislib@ git+https://github.com/CCareaga/chrislib@main (from intrinsic==0.0.1)\n",
      "  Cloning https://github.com/CCareaga/chrislib (to revision main) to /tmp/pip-install-6c0x2n17/chrislib_74af365321724a58a715fbaedb0bf32d\n",
      "  Running command git clone --filter=blob:none --quiet https://github.com/CCareaga/chrislib /tmp/pip-install-6c0x2n17/chrislib_74af365321724a58a715fbaedb0bf32d\n",
      "  Resolved https://github.com/CCareaga/chrislib to commit cf818e04e16495e0228d0a418733280538a5857b\n",
      "  Installing build dependencies ... \u001b[?25ldone\n",
      "\u001b[?25h  Getting requirements to build wheel ... \u001b[?25ldone\n",
      "\u001b[?25h  Preparing metadata (pyproject.toml) ... \u001b[?25ldone\n",
      "\u001b[?25hCollecting numpy>=1.23.5 (from altered_midas@ git+https://github.com/CCareaga/MiDaS@master->intrinsic==0.0.1)\n",
      "  Using cached numpy-2.2.2-cp312-cp312-manylinux_2_17_x86_64.manylinux2014_x86_64.whl.metadata (62 kB)\n",
      "Collecting opencv-python>=4.8.0.76 (from altered_midas@ git+https://github.com/CCareaga/MiDaS@master->intrinsic==0.0.1)\n",
      "  Using cached opencv_python-4.11.0.86-cp37-abi3-manylinux_2_17_x86_64.manylinux2014_x86_64.whl.metadata (20 kB)\n",
      "Collecting torch>=2.0.1 (from altered_midas@ git+https://github.com/CCareaga/MiDaS@master->intrinsic==0.0.1)\n",
      "  Using cached torch-2.5.1-cp312-cp312-manylinux1_x86_64.whl.metadata (28 kB)\n",
      "Collecting torchvision>=0.15.2 (from altered_midas@ git+https://github.com/CCareaga/MiDaS@master->intrinsic==0.0.1)\n",
      "  Using cached torchvision-0.20.1-cp312-cp312-manylinux1_x86_64.whl.metadata (6.1 kB)\n",
      "Collecting timm>=0.6.12 (from altered_midas@ git+https://github.com/CCareaga/MiDaS@master->intrinsic==0.0.1)\n",
      "  Using cached timm-1.0.14-py3-none-any.whl.metadata (50 kB)\n",
      "Collecting beautifulsoup4>=4.11.2 (from chrislib@ git+https://github.com/CCareaga/chrislib@main->intrinsic==0.0.1)\n",
      "  Using cached beautifulsoup4-4.12.3-py3-none-any.whl.metadata (3.8 kB)\n",
      "Collecting imageio>=2.31.3 (from chrislib@ git+https://github.com/CCareaga/chrislib@main->intrinsic==0.0.1)\n",
      "  Using cached imageio-2.37.0-py3-none-any.whl.metadata (5.2 kB)\n",
      "Collecting kornia>=0.7.0 (from chrislib@ git+https://github.com/CCareaga/chrislib@main->intrinsic==0.0.1)\n",
      "  Using cached kornia-0.8.0-py2.py3-none-any.whl.metadata (17 kB)\n",
      "Collecting matplotlib>=3.7.1 (from chrislib@ git+https://github.com/CCareaga/chrislib@main->intrinsic==0.0.1)\n",
      "  Using cached matplotlib-3.10.0-cp312-cp312-manylinux_2_17_x86_64.manylinux2014_x86_64.whl.metadata (11 kB)\n",
      "Collecting Pillow>=9.4.0 (from chrislib@ git+https://github.com/CCareaga/chrislib@main->intrinsic==0.0.1)\n",
      "  Using cached pillow-11.1.0-cp312-cp312-manylinux_2_28_x86_64.whl.metadata (9.1 kB)\n",
      "Collecting requests>=2.31.0 (from chrislib@ git+https://github.com/CCareaga/chrislib@main->intrinsic==0.0.1)\n",
      "  Using cached requests-2.32.3-py3-none-any.whl.metadata (4.6 kB)\n",
      "Collecting scikit-image>=0.19.3 (from chrislib@ git+https://github.com/CCareaga/chrislib@main->intrinsic==0.0.1)\n",
      "  Using cached scikit_image-0.25.0-cp312-cp312-manylinux_2_17_x86_64.manylinux2014_x86_64.whl.metadata (14 kB)\n",
      "Collecting scipy>=1.10.1 (from chrislib@ git+https://github.com/CCareaga/chrislib@main->intrinsic==0.0.1)\n",
      "  Using cached scipy-1.15.1-cp312-cp312-manylinux_2_17_x86_64.manylinux2014_x86_64.whl.metadata (61 kB)\n",
      "Collecting tqdm>=4.66.1 (from chrislib@ git+https://github.com/CCareaga/chrislib@main->intrinsic==0.0.1)\n",
      "  Using cached tqdm-4.67.1-py3-none-any.whl.metadata (57 kB)\n",
      "Collecting gdown>=4.7.1 (from chrislib@ git+https://github.com/CCareaga/chrislib@main->intrinsic==0.0.1)\n",
      "  Using cached gdown-5.2.0-py3-none-any.whl.metadata (5.8 kB)\n",
      "Collecting soupsieve>1.2 (from beautifulsoup4>=4.11.2->chrislib@ git+https://github.com/CCareaga/chrislib@main->intrinsic==0.0.1)\n",
      "  Using cached soupsieve-2.6-py3-none-any.whl.metadata (4.6 kB)\n",
      "Collecting filelock (from gdown>=4.7.1->chrislib@ git+https://github.com/CCareaga/chrislib@main->intrinsic==0.0.1)\n",
      "  Using cached filelock-3.17.0-py3-none-any.whl.metadata (2.9 kB)\n",
      "Collecting kornia_rs>=0.1.0 (from kornia>=0.7.0->chrislib@ git+https://github.com/CCareaga/chrislib@main->intrinsic==0.0.1)\n",
      "  Using cached kornia_rs-0.1.8-cp312-cp312-manylinux_2_17_x86_64.manylinux2014_x86_64.whl.metadata (10 kB)\n",
      "Requirement already satisfied: packaging in /transfer/s5708799/ASE_Project/Image Data/intrinsics/lib/python3.12/site-packages (from kornia>=0.7.0->chrislib@ git+https://github.com/CCareaga/chrislib@main->intrinsic==0.0.1) (24.2)\n",
      "Collecting contourpy>=1.0.1 (from matplotlib>=3.7.1->chrislib@ git+https://github.com/CCareaga/chrislib@main->intrinsic==0.0.1)\n",
      "  Using cached contourpy-1.3.1-cp312-cp312-manylinux_2_17_x86_64.manylinux2014_x86_64.whl.metadata (5.4 kB)\n",
      "Collecting cycler>=0.10 (from matplotlib>=3.7.1->chrislib@ git+https://github.com/CCareaga/chrislib@main->intrinsic==0.0.1)\n",
      "  Using cached cycler-0.12.1-py3-none-any.whl.metadata (3.8 kB)\n",
      "Collecting fonttools>=4.22.0 (from matplotlib>=3.7.1->chrislib@ git+https://github.com/CCareaga/chrislib@main->intrinsic==0.0.1)\n",
      "  Using cached fonttools-4.55.6-cp312-cp312-manylinux_2_5_x86_64.manylinux1_x86_64.manylinux_2_17_x86_64.manylinux2014_x86_64.whl.metadata (166 kB)\n",
      "Collecting kiwisolver>=1.3.1 (from matplotlib>=3.7.1->chrislib@ git+https://github.com/CCareaga/chrislib@main->intrinsic==0.0.1)\n",
      "  Using cached kiwisolver-1.4.8-cp312-cp312-manylinux_2_17_x86_64.manylinux2014_x86_64.whl.metadata (6.2 kB)\n",
      "Collecting pyparsing>=2.3.1 (from matplotlib>=3.7.1->chrislib@ git+https://github.com/CCareaga/chrislib@main->intrinsic==0.0.1)\n",
      "  Using cached pyparsing-3.2.1-py3-none-any.whl.metadata (5.0 kB)\n",
      "Requirement already satisfied: python-dateutil>=2.7 in /transfer/s5708799/ASE_Project/Image Data/intrinsics/lib/python3.12/site-packages (from matplotlib>=3.7.1->chrislib@ git+https://github.com/CCareaga/chrislib@main->intrinsic==0.0.1) (2.9.0.post0)\n",
      "Collecting charset-normalizer<4,>=2 (from requests>=2.31.0->chrislib@ git+https://github.com/CCareaga/chrislib@main->intrinsic==0.0.1)\n",
      "  Using cached charset_normalizer-3.4.1-cp312-cp312-manylinux_2_17_x86_64.manylinux2014_x86_64.whl.metadata (35 kB)\n",
      "Collecting idna<4,>=2.5 (from requests>=2.31.0->chrislib@ git+https://github.com/CCareaga/chrislib@main->intrinsic==0.0.1)\n",
      "  Using cached idna-3.10-py3-none-any.whl.metadata (10 kB)\n",
      "Collecting urllib3<3,>=1.21.1 (from requests>=2.31.0->chrislib@ git+https://github.com/CCareaga/chrislib@main->intrinsic==0.0.1)\n",
      "  Using cached urllib3-2.3.0-py3-none-any.whl.metadata (6.5 kB)\n",
      "Collecting certifi>=2017.4.17 (from requests>=2.31.0->chrislib@ git+https://github.com/CCareaga/chrislib@main->intrinsic==0.0.1)\n",
      "  Using cached certifi-2024.12.14-py3-none-any.whl.metadata (2.3 kB)\n",
      "Collecting networkx>=3.0 (from scikit-image>=0.19.3->chrislib@ git+https://github.com/CCareaga/chrislib@main->intrinsic==0.0.1)\n",
      "  Using cached networkx-3.4.2-py3-none-any.whl.metadata (6.3 kB)\n",
      "Collecting tifffile>=2022.8.12 (from scikit-image>=0.19.3->chrislib@ git+https://github.com/CCareaga/chrislib@main->intrinsic==0.0.1)\n",
      "  Using cached tifffile-2025.1.10-py3-none-any.whl.metadata (31 kB)\n",
      "Collecting lazy-loader>=0.4 (from scikit-image>=0.19.3->chrislib@ git+https://github.com/CCareaga/chrislib@main->intrinsic==0.0.1)\n",
      "  Using cached lazy_loader-0.4-py3-none-any.whl.metadata (7.6 kB)\n",
      "Collecting pyyaml (from timm>=0.6.12->altered_midas@ git+https://github.com/CCareaga/MiDaS@master->intrinsic==0.0.1)\n",
      "  Using cached PyYAML-6.0.2-cp312-cp312-manylinux_2_17_x86_64.manylinux2014_x86_64.whl.metadata (2.1 kB)\n",
      "Collecting huggingface_hub (from timm>=0.6.12->altered_midas@ git+https://github.com/CCareaga/MiDaS@master->intrinsic==0.0.1)\n",
      "  Using cached huggingface_hub-0.27.1-py3-none-any.whl.metadata (13 kB)\n",
      "Collecting safetensors (from timm>=0.6.12->altered_midas@ git+https://github.com/CCareaga/MiDaS@master->intrinsic==0.0.1)\n",
      "  Using cached safetensors-0.5.2-cp38-abi3-manylinux_2_17_x86_64.manylinux2014_x86_64.whl.metadata (3.8 kB)\n",
      "Collecting typing-extensions>=4.8.0 (from torch>=2.0.1->altered_midas@ git+https://github.com/CCareaga/MiDaS@master->intrinsic==0.0.1)\n",
      "  Using cached typing_extensions-4.12.2-py3-none-any.whl.metadata (3.0 kB)\n",
      "Collecting jinja2 (from torch>=2.0.1->altered_midas@ git+https://github.com/CCareaga/MiDaS@master->intrinsic==0.0.1)\n",
      "  Using cached jinja2-3.1.5-py3-none-any.whl.metadata (2.6 kB)\n",
      "Collecting fsspec (from torch>=2.0.1->altered_midas@ git+https://github.com/CCareaga/MiDaS@master->intrinsic==0.0.1)\n",
      "  Using cached fsspec-2024.12.0-py3-none-any.whl.metadata (11 kB)\n",
      "Collecting nvidia-cuda-nvrtc-cu12==12.4.127 (from torch>=2.0.1->altered_midas@ git+https://github.com/CCareaga/MiDaS@master->intrinsic==0.0.1)\n",
      "  Using cached nvidia_cuda_nvrtc_cu12-12.4.127-py3-none-manylinux2014_x86_64.whl.metadata (1.5 kB)\n",
      "Collecting nvidia-cuda-runtime-cu12==12.4.127 (from torch>=2.0.1->altered_midas@ git+https://github.com/CCareaga/MiDaS@master->intrinsic==0.0.1)\n",
      "  Using cached nvidia_cuda_runtime_cu12-12.4.127-py3-none-manylinux2014_x86_64.whl.metadata (1.5 kB)\n",
      "Collecting nvidia-cuda-cupti-cu12==12.4.127 (from torch>=2.0.1->altered_midas@ git+https://github.com/CCareaga/MiDaS@master->intrinsic==0.0.1)\n",
      "  Using cached nvidia_cuda_cupti_cu12-12.4.127-py3-none-manylinux2014_x86_64.whl.metadata (1.6 kB)\n",
      "Collecting nvidia-cudnn-cu12==9.1.0.70 (from torch>=2.0.1->altered_midas@ git+https://github.com/CCareaga/MiDaS@master->intrinsic==0.0.1)\n",
      "  Using cached nvidia_cudnn_cu12-9.1.0.70-py3-none-manylinux2014_x86_64.whl.metadata (1.6 kB)\n",
      "Collecting nvidia-cublas-cu12==12.4.5.8 (from torch>=2.0.1->altered_midas@ git+https://github.com/CCareaga/MiDaS@master->intrinsic==0.0.1)\n",
      "  Using cached nvidia_cublas_cu12-12.4.5.8-py3-none-manylinux2014_x86_64.whl.metadata (1.5 kB)\n",
      "Collecting nvidia-cufft-cu12==11.2.1.3 (from torch>=2.0.1->altered_midas@ git+https://github.com/CCareaga/MiDaS@master->intrinsic==0.0.1)\n",
      "  Using cached nvidia_cufft_cu12-11.2.1.3-py3-none-manylinux2014_x86_64.whl.metadata (1.5 kB)\n",
      "Collecting nvidia-curand-cu12==10.3.5.147 (from torch>=2.0.1->altered_midas@ git+https://github.com/CCareaga/MiDaS@master->intrinsic==0.0.1)\n",
      "  Using cached nvidia_curand_cu12-10.3.5.147-py3-none-manylinux2014_x86_64.whl.metadata (1.5 kB)\n",
      "Collecting nvidia-cusolver-cu12==11.6.1.9 (from torch>=2.0.1->altered_midas@ git+https://github.com/CCareaga/MiDaS@master->intrinsic==0.0.1)\n",
      "  Using cached nvidia_cusolver_cu12-11.6.1.9-py3-none-manylinux2014_x86_64.whl.metadata (1.6 kB)\n",
      "Collecting nvidia-cusparse-cu12==12.3.1.170 (from torch>=2.0.1->altered_midas@ git+https://github.com/CCareaga/MiDaS@master->intrinsic==0.0.1)\n",
      "  Using cached nvidia_cusparse_cu12-12.3.1.170-py3-none-manylinux2014_x86_64.whl.metadata (1.6 kB)\n",
      "Collecting nvidia-nccl-cu12==2.21.5 (from torch>=2.0.1->altered_midas@ git+https://github.com/CCareaga/MiDaS@master->intrinsic==0.0.1)\n",
      "  Using cached nvidia_nccl_cu12-2.21.5-py3-none-manylinux2014_x86_64.whl.metadata (1.8 kB)\n",
      "Collecting nvidia-nvtx-cu12==12.4.127 (from torch>=2.0.1->altered_midas@ git+https://github.com/CCareaga/MiDaS@master->intrinsic==0.0.1)\n",
      "  Using cached nvidia_nvtx_cu12-12.4.127-py3-none-manylinux2014_x86_64.whl.metadata (1.7 kB)\n",
      "Collecting nvidia-nvjitlink-cu12==12.4.127 (from torch>=2.0.1->altered_midas@ git+https://github.com/CCareaga/MiDaS@master->intrinsic==0.0.1)\n",
      "  Using cached nvidia_nvjitlink_cu12-12.4.127-py3-none-manylinux2014_x86_64.whl.metadata (1.5 kB)\n",
      "Collecting triton==3.1.0 (from torch>=2.0.1->altered_midas@ git+https://github.com/CCareaga/MiDaS@master->intrinsic==0.0.1)\n",
      "  Using cached triton-3.1.0-cp312-cp312-manylinux_2_17_x86_64.manylinux2014_x86_64.whl.metadata (1.3 kB)\n",
      "Collecting setuptools (from torch>=2.0.1->altered_midas@ git+https://github.com/CCareaga/MiDaS@master->intrinsic==0.0.1)\n",
      "  Using cached setuptools-75.8.0-py3-none-any.whl.metadata (6.7 kB)\n",
      "Collecting sympy==1.13.1 (from torch>=2.0.1->altered_midas@ git+https://github.com/CCareaga/MiDaS@master->intrinsic==0.0.1)\n",
      "  Using cached sympy-1.13.1-py3-none-any.whl.metadata (12 kB)\n",
      "Collecting mpmath<1.4,>=1.1.0 (from sympy==1.13.1->torch>=2.0.1->altered_midas@ git+https://github.com/CCareaga/MiDaS@master->intrinsic==0.0.1)\n",
      "  Using cached mpmath-1.3.0-py3-none-any.whl.metadata (8.6 kB)\n",
      "Requirement already satisfied: six>=1.5 in /transfer/s5708799/ASE_Project/Image Data/intrinsics/lib/python3.12/site-packages (from python-dateutil>=2.7->matplotlib>=3.7.1->chrislib@ git+https://github.com/CCareaga/chrislib@main->intrinsic==0.0.1) (1.17.0)\n",
      "Collecting MarkupSafe>=2.0 (from jinja2->torch>=2.0.1->altered_midas@ git+https://github.com/CCareaga/MiDaS@master->intrinsic==0.0.1)\n",
      "  Using cached MarkupSafe-3.0.2-cp312-cp312-manylinux_2_17_x86_64.manylinux2014_x86_64.whl.metadata (4.0 kB)\n",
      "Collecting PySocks!=1.5.7,>=1.5.6 (from requests[socks]->gdown>=4.7.1->chrislib@ git+https://github.com/CCareaga/chrislib@main->intrinsic==0.0.1)\n",
      "  Using cached PySocks-1.7.1-py3-none-any.whl.metadata (13 kB)\n",
      "Using cached beautifulsoup4-4.12.3-py3-none-any.whl (147 kB)\n",
      "Using cached gdown-5.2.0-py3-none-any.whl (18 kB)\n",
      "Using cached imageio-2.37.0-py3-none-any.whl (315 kB)\n",
      "Using cached kornia-0.8.0-py2.py3-none-any.whl (1.1 MB)\n",
      "Using cached matplotlib-3.10.0-cp312-cp312-manylinux_2_17_x86_64.manylinux2014_x86_64.whl (8.6 MB)\n",
      "Using cached numpy-2.2.2-cp312-cp312-manylinux_2_17_x86_64.manylinux2014_x86_64.whl (16.1 MB)\n",
      "Using cached opencv_python-4.11.0.86-cp37-abi3-manylinux_2_17_x86_64.manylinux2014_x86_64.whl (63.0 MB)\n",
      "Using cached pillow-11.1.0-cp312-cp312-manylinux_2_28_x86_64.whl (4.5 MB)\n",
      "Using cached requests-2.32.3-py3-none-any.whl (64 kB)\n",
      "Using cached scikit_image-0.25.0-cp312-cp312-manylinux_2_17_x86_64.manylinux2014_x86_64.whl (15.0 MB)\n",
      "Using cached scipy-1.15.1-cp312-cp312-manylinux_2_17_x86_64.manylinux2014_x86_64.whl (40.2 MB)\n",
      "Using cached timm-1.0.14-py3-none-any.whl (2.4 MB)\n",
      "Using cached torch-2.5.1-cp312-cp312-manylinux1_x86_64.whl (906.4 MB)\n",
      "Using cached nvidia_cublas_cu12-12.4.5.8-py3-none-manylinux2014_x86_64.whl (363.4 MB)\n",
      "Using cached nvidia_cuda_cupti_cu12-12.4.127-py3-none-manylinux2014_x86_64.whl (13.8 MB)\n",
      "Using cached nvidia_cuda_nvrtc_cu12-12.4.127-py3-none-manylinux2014_x86_64.whl (24.6 MB)\n",
      "Using cached nvidia_cuda_runtime_cu12-12.4.127-py3-none-manylinux2014_x86_64.whl (883 kB)\n",
      "Using cached nvidia_cudnn_cu12-9.1.0.70-py3-none-manylinux2014_x86_64.whl (664.8 MB)\n",
      "Using cached nvidia_cufft_cu12-11.2.1.3-py3-none-manylinux2014_x86_64.whl (211.5 MB)\n",
      "Using cached nvidia_curand_cu12-10.3.5.147-py3-none-manylinux2014_x86_64.whl (56.3 MB)\n",
      "Using cached nvidia_cusolver_cu12-11.6.1.9-py3-none-manylinux2014_x86_64.whl (127.9 MB)\n",
      "Using cached nvidia_cusparse_cu12-12.3.1.170-py3-none-manylinux2014_x86_64.whl (207.5 MB)\n",
      "Using cached nvidia_nccl_cu12-2.21.5-py3-none-manylinux2014_x86_64.whl (188.7 MB)\n",
      "Using cached nvidia_nvjitlink_cu12-12.4.127-py3-none-manylinux2014_x86_64.whl (21.1 MB)\n",
      "Using cached nvidia_nvtx_cu12-12.4.127-py3-none-manylinux2014_x86_64.whl (99 kB)\n",
      "Using cached sympy-1.13.1-py3-none-any.whl (6.2 MB)\n",
      "Using cached triton-3.1.0-cp312-cp312-manylinux_2_17_x86_64.manylinux2014_x86_64.whl (209.6 MB)\n",
      "Using cached torchvision-0.20.1-cp312-cp312-manylinux1_x86_64.whl (7.2 MB)\n",
      "Using cached tqdm-4.67.1-py3-none-any.whl (78 kB)\n",
      "Using cached certifi-2024.12.14-py3-none-any.whl (164 kB)\n",
      "Using cached charset_normalizer-3.4.1-cp312-cp312-manylinux_2_17_x86_64.manylinux2014_x86_64.whl (145 kB)\n",
      "Using cached contourpy-1.3.1-cp312-cp312-manylinux_2_17_x86_64.manylinux2014_x86_64.whl (323 kB)\n",
      "Using cached cycler-0.12.1-py3-none-any.whl (8.3 kB)\n",
      "Using cached fonttools-4.55.6-cp312-cp312-manylinux_2_5_x86_64.manylinux1_x86_64.manylinux_2_17_x86_64.manylinux2014_x86_64.whl (4.9 MB)\n",
      "Using cached idna-3.10-py3-none-any.whl (70 kB)\n",
      "Using cached kiwisolver-1.4.8-cp312-cp312-manylinux_2_17_x86_64.manylinux2014_x86_64.whl (1.5 MB)\n",
      "Using cached kornia_rs-0.1.8-cp312-cp312-manylinux_2_17_x86_64.manylinux2014_x86_64.whl (2.0 MB)\n",
      "Using cached lazy_loader-0.4-py3-none-any.whl (12 kB)\n",
      "Using cached networkx-3.4.2-py3-none-any.whl (1.7 MB)\n",
      "Using cached pyparsing-3.2.1-py3-none-any.whl (107 kB)\n",
      "Using cached soupsieve-2.6-py3-none-any.whl (36 kB)\n",
      "Using cached tifffile-2025.1.10-py3-none-any.whl (227 kB)\n",
      "Using cached typing_extensions-4.12.2-py3-none-any.whl (37 kB)\n",
      "Using cached urllib3-2.3.0-py3-none-any.whl (128 kB)\n",
      "Using cached filelock-3.17.0-py3-none-any.whl (16 kB)\n",
      "Using cached fsspec-2024.12.0-py3-none-any.whl (183 kB)\n",
      "Using cached huggingface_hub-0.27.1-py3-none-any.whl (450 kB)\n",
      "Using cached PyYAML-6.0.2-cp312-cp312-manylinux_2_17_x86_64.manylinux2014_x86_64.whl (767 kB)\n",
      "Using cached jinja2-3.1.5-py3-none-any.whl (134 kB)\n",
      "Using cached safetensors-0.5.2-cp38-abi3-manylinux_2_17_x86_64.manylinux2014_x86_64.whl (461 kB)\n",
      "Using cached setuptools-75.8.0-py3-none-any.whl (1.2 MB)\n",
      "Using cached MarkupSafe-3.0.2-cp312-cp312-manylinux_2_17_x86_64.manylinux2014_x86_64.whl (23 kB)\n",
      "Using cached mpmath-1.3.0-py3-none-any.whl (536 kB)\n",
      "Using cached PySocks-1.7.1-py3-none-any.whl (16 kB)\n",
      "Building wheels for collected packages: intrinsic, altered_midas, chrislib\n",
      "  Building wheel for intrinsic (pyproject.toml) ... \u001b[?25ldone\n",
      "\u001b[?25h  Created wheel for intrinsic: filename=intrinsic-0.0.1-py3-none-any.whl size=7853 sha256=de30f4d85c8a9fab645e750ba2cbcc13edc51616a70608509587195787b29284\n",
      "  Stored in directory: /tmp/pip-ephem-wheel-cache-u8wksf8v/wheels/29/0e/a6/8f33d6566e59bbbfc033919123209d1481d589dca9bd13ee99\n",
      "  Building wheel for altered_midas (pyproject.toml) ... \u001b[?25ldone\n",
      "\u001b[?25h  Created wheel for altered_midas: filename=altered_midas-0.0.1-py3-none-any.whl size=23349 sha256=9fa20a5efb94000db91a58e3234dad887e0e429723c516b43a1b4307d8515226\n",
      "  Stored in directory: /tmp/pip-ephem-wheel-cache-u8wksf8v/wheels/b0/84/14/61312e4b4515bb16e198ae6051ebcc9c29035b6552ac2cd7e1\n",
      "  Building wheel for chrislib (pyproject.toml) ... \u001b[?25ldone\n",
      "\u001b[?25h  Created wheel for chrislib: filename=chrislib-0.0.1-py3-none-any.whl size=45969 sha256=e96f8de5a11ec693600ded06879cf0cb9b392252988a0d18b0b51e816c1f5196\n",
      "  Stored in directory: /tmp/pip-ephem-wheel-cache-u8wksf8v/wheels/b1/1e/ae/084f5ca7ec401afd1bae51761476b5eabf623fee92570514d4\n",
      "Successfully built intrinsic altered_midas chrislib\n",
      "Installing collected packages: mpmath, urllib3, typing-extensions, tqdm, sympy, soupsieve, setuptools, safetensors, pyyaml, PySocks, pyparsing, Pillow, nvidia-nvtx-cu12, nvidia-nvjitlink-cu12, nvidia-nccl-cu12, nvidia-curand-cu12, nvidia-cufft-cu12, nvidia-cuda-runtime-cu12, nvidia-cuda-nvrtc-cu12, nvidia-cuda-cupti-cu12, nvidia-cublas-cu12, numpy, networkx, MarkupSafe, lazy-loader, kornia_rs, kiwisolver, idna, fsspec, fonttools, filelock, cycler, charset-normalizer, certifi, triton, tifffile, scipy, requests, opencv-python, nvidia-cusparse-cu12, nvidia-cudnn-cu12, jinja2, imageio, contourpy, beautifulsoup4, scikit-image, nvidia-cusolver-cu12, matplotlib, huggingface_hub, torch, gdown, torchvision, kornia, timm, chrislib, altered_midas, intrinsic\n",
      "Successfully installed MarkupSafe-3.0.2 Pillow-11.1.0 PySocks-1.7.1 altered_midas-0.0.1 beautifulsoup4-4.12.3 certifi-2024.12.14 charset-normalizer-3.4.1 chrislib-0.0.1 contourpy-1.3.1 cycler-0.12.1 filelock-3.17.0 fonttools-4.55.6 fsspec-2024.12.0 gdown-5.2.0 huggingface_hub-0.27.1 idna-3.10 imageio-2.37.0 intrinsic-0.0.1 jinja2-3.1.5 kiwisolver-1.4.8 kornia-0.8.0 kornia_rs-0.1.8 lazy-loader-0.4 matplotlib-3.10.0 mpmath-1.3.0 networkx-3.4.2 numpy-2.2.2 nvidia-cublas-cu12-12.4.5.8 nvidia-cuda-cupti-cu12-12.4.127 nvidia-cuda-nvrtc-cu12-12.4.127 nvidia-cuda-runtime-cu12-12.4.127 nvidia-cudnn-cu12-9.1.0.70 nvidia-cufft-cu12-11.2.1.3 nvidia-curand-cu12-10.3.5.147 nvidia-cusolver-cu12-11.6.1.9 nvidia-cusparse-cu12-12.3.1.170 nvidia-nccl-cu12-2.21.5 nvidia-nvjitlink-cu12-12.4.127 nvidia-nvtx-cu12-12.4.127 opencv-python-4.11.0.86 pyparsing-3.2.1 pyyaml-6.0.2 requests-2.32.3 safetensors-0.5.2 scikit-image-0.25.0 scipy-1.15.1 setuptools-75.8.0 soupsieve-2.6 sympy-1.13.1 tifffile-2025.1.10 timm-1.0.14 torch-2.5.1 torchvision-0.20.1 tqdm-4.67.1 triton-3.1.0 typing-extensions-4.12.2 urllib3-2.3.0\n",
      "\n",
      "\u001b[1m[\u001b[0m\u001b[34;49mnotice\u001b[0m\u001b[1;39;49m]\u001b[0m\u001b[39;49m A new release of pip is available: \u001b[0m\u001b[31;49m24.2\u001b[0m\u001b[39;49m -> \u001b[0m\u001b[32;49m25.0\u001b[0m\n",
      "\u001b[1m[\u001b[0m\u001b[34;49mnotice\u001b[0m\u001b[1;39;49m]\u001b[0m\u001b[39;49m To update, run: \u001b[0m\u001b[32;49mpip install --upgrade pip\u001b[0m\n",
      "Note: you may need to restart the kernel to use updated packages.\n"
     ]
    }
   ],
   "source": [
    "%cd Intrinsic\n",
    "%pip install ."
   ]
  },
  {
   "cell_type": "code",
   "execution_count": 8,
   "metadata": {},
   "outputs": [
    {
     "name": "stdout",
     "output_type": "stream",
     "text": [
      "/transfer/s5708799/ASE_Project/Image Data/Intrinsic\n"
     ]
    }
   ],
   "source": [
    "!pwd"
   ]
  },
  {
   "cell_type": "code",
   "execution_count": 6,
   "metadata": {},
   "outputs": [
    {
     "name": "stdout",
     "output_type": "stream",
     "text": [
      "Collecting antialiased_cnns\n",
      "  Downloading antialiased_cnns-0.3-py3-none-any.whl.metadata (9.6 kB)\n",
      "Downloading antialiased_cnns-0.3-py3-none-any.whl (29 kB)\n",
      "Installing collected packages: antialiased_cnns\n",
      "Successfully installed antialiased_cnns-0.3\n",
      "\n",
      "\u001b[1m[\u001b[0m\u001b[34;49mnotice\u001b[0m\u001b[1;39;49m]\u001b[0m\u001b[39;49m A new release of pip is available: \u001b[0m\u001b[31;49m24.2\u001b[0m\u001b[39;49m -> \u001b[0m\u001b[32;49m25.0\u001b[0m\n",
      "\u001b[1m[\u001b[0m\u001b[34;49mnotice\u001b[0m\u001b[1;39;49m]\u001b[0m\u001b[39;49m To update, run: \u001b[0m\u001b[32;49mpip install --upgrade pip\u001b[0m\n"
     ]
    }
   ],
   "source": [
    "!pip install antialiased_cnns"
   ]
  },
  {
   "cell_type": "code",
   "execution_count": 22,
   "metadata": {},
   "outputs": [
    {
     "name": "stderr",
     "output_type": "stream",
     "text": [
      "Using cache found in /home/s5708799/.cache/torch/hub/facebookresearch_WSL-Images_main\n",
      "Using cache found in /home/s5708799/.cache/torch/hub/rwightman_gen-efficientnet-pytorch_master\n",
      "Using cache found in /home/s5708799/.cache/torch/hub/facebookresearch_WSL-Images_main\n",
      "Using cache found in /home/s5708799/.cache/torch/hub/facebookresearch_WSL-Images_main\n",
      "Using cache found in /home/s5708799/.cache/torch/hub/facebookresearch_WSL-Images_main\n"
     ]
    }
   ],
   "source": [
    "from chrislib.data_util import load_image\n",
    "from intrinsic.pipeline import load_models, run_pipeline\n",
    "import os\n",
    "# load the models from the given paths\n",
    "models = load_models('v2')\n",
    "\n",
    "# os.chdir(\"..\")\n",
    "# load an image (np float array in [0-1])\n",
    "image = load_image('Test Images/Input/Input_1.png')\n",
    "\n",
    "# run the model on the image using R_0 resizing\n",
    "results = run_pipeline(models, image)\n",
    "\n",
    "albedo = results['hr_alb']\n",
    "diffuse_shading = results['dif_shd']\n",
    "residual = results['residual']\n",
    "# + multiple other keys for different intermediate components\n"
   ]
  },
  {
   "cell_type": "code",
   "execution_count": 38,
   "metadata": {},
   "outputs": [
    {
     "name": "stdout",
     "output_type": "stream",
     "text": [
      "Requirement already satisfied: chrislib in ./intrinsics/lib/python3.12/site-packages (0.0.1)\n",
      "Requirement already satisfied: beautifulsoup4>=4.11.2 in ./intrinsics/lib/python3.12/site-packages (from chrislib) (4.12.3)\n",
      "Requirement already satisfied: imageio>=2.31.3 in ./intrinsics/lib/python3.12/site-packages (from chrislib) (2.37.0)\n",
      "Requirement already satisfied: kornia>=0.7.0 in ./intrinsics/lib/python3.12/site-packages (from chrislib) (0.8.0)\n",
      "Requirement already satisfied: matplotlib>=3.7.1 in ./intrinsics/lib/python3.12/site-packages (from chrislib) (3.10.0)\n",
      "Requirement already satisfied: numpy>=1.23.5 in ./intrinsics/lib/python3.12/site-packages (from chrislib) (2.2.2)\n",
      "Requirement already satisfied: opencv-python>=4.8.0.76 in ./intrinsics/lib/python3.12/site-packages (from chrislib) (4.11.0.86)\n",
      "Requirement already satisfied: Pillow>=9.4.0 in ./intrinsics/lib/python3.12/site-packages (from chrislib) (11.1.0)\n",
      "Requirement already satisfied: requests>=2.31.0 in ./intrinsics/lib/python3.12/site-packages (from chrislib) (2.32.3)\n",
      "Requirement already satisfied: scikit-image>=0.19.3 in ./intrinsics/lib/python3.12/site-packages (from chrislib) (0.25.0)\n",
      "Requirement already satisfied: scipy>=1.10.1 in ./intrinsics/lib/python3.12/site-packages (from chrislib) (1.15.1)\n",
      "Requirement already satisfied: torch>=2.0.1 in ./intrinsics/lib/python3.12/site-packages (from chrislib) (2.5.1)\n",
      "Requirement already satisfied: torchvision>=0.15.2 in ./intrinsics/lib/python3.12/site-packages (from chrislib) (0.20.1)\n",
      "Requirement already satisfied: tqdm>=4.66.1 in ./intrinsics/lib/python3.12/site-packages (from chrislib) (4.67.1)\n",
      "Requirement already satisfied: gdown>=4.7.1 in ./intrinsics/lib/python3.12/site-packages (from chrislib) (5.2.0)\n",
      "Requirement already satisfied: soupsieve>1.2 in ./intrinsics/lib/python3.12/site-packages (from beautifulsoup4>=4.11.2->chrislib) (2.6)\n",
      "Requirement already satisfied: filelock in ./intrinsics/lib/python3.12/site-packages (from gdown>=4.7.1->chrislib) (3.17.0)\n",
      "Requirement already satisfied: kornia_rs>=0.1.0 in ./intrinsics/lib/python3.12/site-packages (from kornia>=0.7.0->chrislib) (0.1.8)\n",
      "Requirement already satisfied: packaging in ./intrinsics/lib/python3.12/site-packages (from kornia>=0.7.0->chrislib) (24.2)\n",
      "Requirement already satisfied: contourpy>=1.0.1 in ./intrinsics/lib/python3.12/site-packages (from matplotlib>=3.7.1->chrislib) (1.3.1)\n",
      "Requirement already satisfied: cycler>=0.10 in ./intrinsics/lib/python3.12/site-packages (from matplotlib>=3.7.1->chrislib) (0.12.1)\n",
      "Requirement already satisfied: fonttools>=4.22.0 in ./intrinsics/lib/python3.12/site-packages (from matplotlib>=3.7.1->chrislib) (4.55.6)\n",
      "Requirement already satisfied: kiwisolver>=1.3.1 in ./intrinsics/lib/python3.12/site-packages (from matplotlib>=3.7.1->chrislib) (1.4.8)\n",
      "Requirement already satisfied: pyparsing>=2.3.1 in ./intrinsics/lib/python3.12/site-packages (from matplotlib>=3.7.1->chrislib) (3.2.1)\n",
      "Requirement already satisfied: python-dateutil>=2.7 in ./intrinsics/lib/python3.12/site-packages (from matplotlib>=3.7.1->chrislib) (2.9.0.post0)\n",
      "Requirement already satisfied: charset-normalizer<4,>=2 in ./intrinsics/lib/python3.12/site-packages (from requests>=2.31.0->chrislib) (3.4.1)\n",
      "Requirement already satisfied: idna<4,>=2.5 in ./intrinsics/lib/python3.12/site-packages (from requests>=2.31.0->chrislib) (3.10)\n",
      "Requirement already satisfied: urllib3<3,>=1.21.1 in ./intrinsics/lib/python3.12/site-packages (from requests>=2.31.0->chrislib) (2.3.0)\n",
      "Requirement already satisfied: certifi>=2017.4.17 in ./intrinsics/lib/python3.12/site-packages (from requests>=2.31.0->chrislib) (2024.12.14)\n",
      "Requirement already satisfied: networkx>=3.0 in ./intrinsics/lib/python3.12/site-packages (from scikit-image>=0.19.3->chrislib) (3.4.2)\n",
      "Requirement already satisfied: tifffile>=2022.8.12 in ./intrinsics/lib/python3.12/site-packages (from scikit-image>=0.19.3->chrislib) (2025.1.10)\n",
      "Requirement already satisfied: lazy-loader>=0.4 in ./intrinsics/lib/python3.12/site-packages (from scikit-image>=0.19.3->chrislib) (0.4)\n",
      "Requirement already satisfied: typing-extensions>=4.8.0 in ./intrinsics/lib/python3.12/site-packages (from torch>=2.0.1->chrislib) (4.12.2)\n",
      "Requirement already satisfied: jinja2 in ./intrinsics/lib/python3.12/site-packages (from torch>=2.0.1->chrislib) (3.1.5)\n",
      "Requirement already satisfied: fsspec in ./intrinsics/lib/python3.12/site-packages (from torch>=2.0.1->chrislib) (2024.12.0)\n",
      "Requirement already satisfied: nvidia-cuda-nvrtc-cu12==12.4.127 in ./intrinsics/lib/python3.12/site-packages (from torch>=2.0.1->chrislib) (12.4.127)\n",
      "Requirement already satisfied: nvidia-cuda-runtime-cu12==12.4.127 in ./intrinsics/lib/python3.12/site-packages (from torch>=2.0.1->chrislib) (12.4.127)\n",
      "Requirement already satisfied: nvidia-cuda-cupti-cu12==12.4.127 in ./intrinsics/lib/python3.12/site-packages (from torch>=2.0.1->chrislib) (12.4.127)\n",
      "Requirement already satisfied: nvidia-cudnn-cu12==9.1.0.70 in ./intrinsics/lib/python3.12/site-packages (from torch>=2.0.1->chrislib) (9.1.0.70)\n",
      "Requirement already satisfied: nvidia-cublas-cu12==12.4.5.8 in ./intrinsics/lib/python3.12/site-packages (from torch>=2.0.1->chrislib) (12.4.5.8)\n",
      "Requirement already satisfied: nvidia-cufft-cu12==11.2.1.3 in ./intrinsics/lib/python3.12/site-packages (from torch>=2.0.1->chrislib) (11.2.1.3)\n",
      "Requirement already satisfied: nvidia-curand-cu12==10.3.5.147 in ./intrinsics/lib/python3.12/site-packages (from torch>=2.0.1->chrislib) (10.3.5.147)\n",
      "Requirement already satisfied: nvidia-cusolver-cu12==11.6.1.9 in ./intrinsics/lib/python3.12/site-packages (from torch>=2.0.1->chrislib) (11.6.1.9)\n",
      "Requirement already satisfied: nvidia-cusparse-cu12==12.3.1.170 in ./intrinsics/lib/python3.12/site-packages (from torch>=2.0.1->chrislib) (12.3.1.170)\n",
      "Requirement already satisfied: nvidia-nccl-cu12==2.21.5 in ./intrinsics/lib/python3.12/site-packages (from torch>=2.0.1->chrislib) (2.21.5)\n",
      "Requirement already satisfied: nvidia-nvtx-cu12==12.4.127 in ./intrinsics/lib/python3.12/site-packages (from torch>=2.0.1->chrislib) (12.4.127)\n",
      "Requirement already satisfied: nvidia-nvjitlink-cu12==12.4.127 in ./intrinsics/lib/python3.12/site-packages (from torch>=2.0.1->chrislib) (12.4.127)\n",
      "Requirement already satisfied: triton==3.1.0 in ./intrinsics/lib/python3.12/site-packages (from torch>=2.0.1->chrislib) (3.1.0)\n",
      "Requirement already satisfied: setuptools in ./intrinsics/lib/python3.12/site-packages (from torch>=2.0.1->chrislib) (75.8.0)\n",
      "Requirement already satisfied: sympy==1.13.1 in ./intrinsics/lib/python3.12/site-packages (from torch>=2.0.1->chrislib) (1.13.1)\n",
      "Requirement already satisfied: mpmath<1.4,>=1.1.0 in ./intrinsics/lib/python3.12/site-packages (from sympy==1.13.1->torch>=2.0.1->chrislib) (1.3.0)\n",
      "Requirement already satisfied: six>=1.5 in ./intrinsics/lib/python3.12/site-packages (from python-dateutil>=2.7->matplotlib>=3.7.1->chrislib) (1.17.0)\n",
      "Requirement already satisfied: MarkupSafe>=2.0 in ./intrinsics/lib/python3.12/site-packages (from jinja2->torch>=2.0.1->chrislib) (3.0.2)\n",
      "Requirement already satisfied: PySocks!=1.5.7,>=1.5.6 in ./intrinsics/lib/python3.12/site-packages (from requests[socks]->gdown>=4.7.1->chrislib) (1.7.1)\n",
      "\n",
      "\u001b[1m[\u001b[0m\u001b[34;49mnotice\u001b[0m\u001b[1;39;49m]\u001b[0m\u001b[39;49m A new release of pip is available: \u001b[0m\u001b[31;49m24.2\u001b[0m\u001b[39;49m -> \u001b[0m\u001b[32;49m25.0\u001b[0m\n",
      "\u001b[1m[\u001b[0m\u001b[34;49mnotice\u001b[0m\u001b[1;39;49m]\u001b[0m\u001b[39;49m To update, run: \u001b[0m\u001b[32;49mpip install --upgrade pip\u001b[0m\n",
      "Note: you may need to restart the kernel to use updated packages.\n"
     ]
    }
   ],
   "source": [
    "pip install chrislib"
   ]
  },
  {
   "cell_type": "code",
   "execution_count": 42,
   "metadata": {},
   "outputs": [],
   "source": [
    "from PIL import Image\n",
    "import numpy as np\n",
    "from chrislib.general import show, view, invert\n",
    "import imageio\n",
    "\n",
    "imageio.imwrite(\"Test Images/Output/ALBEDO_map.tiff\", albedo, format=\"TIFF\")\n",
    "imageio.imwrite(\"Test Images/Output/diffuse_shading_map.tiff\", diffuse_shading, format=\"TIFF\")\n",
    "imageio.imwrite(\"Test Images/Output/Residual_map.tiff\", residual, format=\"TIFF\")\n",
    "\n"
   ]
  }
 ],
 "metadata": {
  "kernelspec": {
   "display_name": "intrinsic_env",
   "language": "python",
   "name": "python3"
  },
  "language_info": {
   "codemirror_mode": {
    "name": "ipython",
    "version": 3
   },
   "file_extension": ".py",
   "mimetype": "text/x-python",
   "name": "python",
   "nbconvert_exporter": "python",
   "pygments_lexer": "ipython3",
   "version": "3.12.7"
  }
 },
 "nbformat": 4,
 "nbformat_minor": 2
}
