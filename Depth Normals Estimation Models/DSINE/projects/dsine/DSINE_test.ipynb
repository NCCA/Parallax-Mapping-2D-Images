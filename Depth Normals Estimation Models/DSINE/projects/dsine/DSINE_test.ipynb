{
 "cells": [
  {
   "cell_type": "code",
   "execution_count": null,
   "metadata": {},
   "outputs": [
    {
     "ename": "",
     "evalue": "",
     "output_type": "error",
     "traceback": [
      "\u001b[1;31mThe kernel failed to start as the Python Environment 'DSINE (Python -1.-1.-1)' is no longer available. Consider selecting another kernel or refreshing the list of Python Environments."
     ]
    }
   ],
   "source": [
    "conda activate DSINE"
   ]
  },
  {
   "cell_type": "code",
   "execution_count": 1,
   "metadata": {},
   "outputs": [
    {
     "name": "stdout",
     "output_type": "stream",
     "text": [
      "exp_dir: dsine/exp001_cvpr2024\n",
      "./checkpoints/exp001_cvpr2024/dsine.pt\n",
      "/home/s5708799/Desktop/24-25/ASE_Project/programming-project-ofayed/copied/DSINE/projects/dsine/../../utils/utils.py:14: FutureWarning: You are using `torch.load` with `weights_only=False` (the current default value), which uses the default pickle module implicitly. It is possible to construct malicious pickle data which will execute arbitrary code during unpickling (See https://github.com/pytorch/pytorch/blob/main/SECURITY.md#untrusted-models for more details). In a future release, the default value for `weights_only` will be flipped to `True`. This limits the functions that could be executed during unpickling. Arbitrary objects will no longer be allowed to be loaded via this mode unless they are explicitly allowlisted by the user via `torch.serialization.add_safe_globals`. We recommend you start setting `weights_only=True` for any use case where you don't have full control of the loaded file. Please open an issue on GitHub for any issues related to this experimental feature.\n",
      "  ckpt = torch.load(fpath, map_location='cpu')['model']\n",
      "./samples/img/20241130_121305621_iOS.png\n",
      "./samples/img/20241130_134448053_iOS.png\n",
      "./samples/img/20241130_134449167_iOS.png\n",
      "./samples/img/20241130_135147684_iOS.png\n",
      "./samples/img/20241130_135459341_iOS.png\n",
      "./samples/img/20241130_142140139_iOS.png\n",
      "./samples/img/20241201_103112052_iOS.png\n",
      "./samples/img/20241201_114121174_iOS.png\n",
      "./samples/img/20241201_114123147_iOS.png\n",
      "./samples/img/20241201_114357434_iOS.png\n",
      "./samples/img/class.png\n",
      "./samples/img/oppen.png\n",
      "./samples/img/zoo.png\n"
     ]
    }
   ],
   "source": [
    "!python test_minimal.py ./experiments/exp001_cvpr2024/dsine.txt"
   ]
  }
 ],
 "metadata": {
  "kernelspec": {
   "display_name": "DSINE",
   "language": "python",
   "name": "python3"
  },
  "language_info": {
   "codemirror_mode": {
    "name": "ipython",
    "version": 3
   },
   "file_extension": ".py",
   "mimetype": "text/x-python",
   "name": "python",
   "nbconvert_exporter": "python",
   "pygments_lexer": "ipython3",
   "version": "3.10.15"
  }
 },
 "nbformat": 4,
 "nbformat_minor": 2
}
